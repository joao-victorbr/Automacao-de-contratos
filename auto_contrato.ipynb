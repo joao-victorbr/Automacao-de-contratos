{
 "cells": [
  {
   "cell_type": "markdown",
   "metadata": {},
   "source": [
    "### Instalação e importação de bibliotecas"
   ]
  },
  {
   "cell_type": "code",
   "execution_count": null,
   "metadata": {},
   "outputs": [],
   "source": [
    "# pip install pandas\n",
    "# pip install python-docx\n",
    "# pip install docx2pdf"
   ]
  },
  {
   "cell_type": "code",
   "execution_count": null,
   "metadata": {},
   "outputs": [],
   "source": [
    "from docx import Document as dc\n",
    "import pandas as pd\n",
    "from docx2pdf import convert\n",
    "import os\n",
    "import shutil"
   ]
  },
  {
   "cell_type": "markdown",
   "metadata": {},
   "source": [
    "### Remoção de arquivos das pastas de destino"
   ]
  },
  {
   "cell_type": "code",
   "execution_count": null,
   "metadata": {},
   "outputs": [],
   "source": [
    "for folder in ['words','pdfs']:\n",
    "    for root, dirs, files in os.walk(f'D:\\Documentos\\Automação_Python\\Automação_contrato_final\\{folder}'):\n",
    "        for f in files:\n",
    "            os.unlink(os.path.join(root, f))\n",
    "        for d in dirs:\n",
    "            shutil.rmtree(os.path.join(root, d))"
   ]
  },
  {
   "cell_type": "markdown",
   "metadata": {},
   "source": [
    "### Automação de contratos"
   ]
  },
  {
   "cell_type": "code",
   "execution_count": null,
   "metadata": {},
   "outputs": [],
   "source": [
    "info_table = pd.read_excel('D:\\Documentos\\Automação_Python\\Automação_contrato_final\\Informacoes.xlsx')\n",
    "\n",
    "for line_number in info_table.index:\n",
    "\n",
    "    doc = dc(\"D:\\Documentos\\Automação_Python\\Automação_contrato_final\\Contrato_locacao_imovel.docx\")\n",
    "\n",
    "    nome_locador = str(info_table.loc[line_number,'nome_locador'])\n",
    "    nacionalidade_locador = str(info_table.loc[line_number,'nacionalidade_locador'])\n",
    "    estado_civil_locador = str(info_table.loc[line_number,'estado_civil_locador'])\n",
    "    profissao_locador = str(info_table.loc[line_number,'profissao_locador'])\n",
    "    cpf_locador = str(info_table.loc[line_number,'cpf_locador'])\n",
    "    endereço_locador = str(info_table.loc[line_number,'endereço_locador'])\n",
    "    nome_locatario = str(info_table.loc[line_number,'nome_locatario'])\n",
    "    nacionalidade_locatario = str(info_table.loc[line_number,'nacionalidade_locatario'])\n",
    "    estado_civil_locatario = str(info_table.loc[line_number,'estado_civil_locatario'])\n",
    "    profissão_locatario = str(info_table.loc[line_number,'profissão_locatario'])\n",
    "    cpf_locatario = str(info_table.loc[line_number,'cpf_locatario'])\n",
    "    endereco_locatario = str(info_table.loc[line_number,'endereco_locatario'])\n",
    "    endereco_imovel = str(info_table.loc[line_number,'endereco_imovel'])\n",
    "    meses = str(info_table.loc[line_number,'meses'])\n",
    "    data_de_inicio = str(info_table.loc[line_number,'data_de_inicio'])\n",
    "    data_de_termino = str(info_table.loc[line_number,'data_de_termino'])\n",
    "    valor_aluguel = str(info_table.loc[line_number,'valor_aluguel'])\n",
    "    dia_pagamento = str(info_table.loc[line_number,'dia_pagamento'])\n",
    "    foro = str(info_table.loc[line_number,'foro_cidade'])\n",
    "    nome_testemunha_1 = str(info_table.loc[line_number,'testemunha_1'])\n",
    "    nome_testemunha_2 = str(info_table.loc[line_number,'testemunha_2'])\n",
    "    local_assin = str(info_table.loc[line_number,'local_assinatura'])\n",
    "    data_assin = str(info_table.loc[line_number,'data_assinatura'])\n",
    "\n",
    "    dict_values = {\n",
    "        \"NOME_LOCADOR\": nome_locador,\n",
    "        \"NACIONALIDADE_LOCADOR\": nacionalidade_locador,\n",
    "        \"ESTADO_CIVIL_LOCADOR\": estado_civil_locador,\n",
    "        \"PROFISSAO_LOCADOR\": profissao_locador,\n",
    "        \"CPF_LOCADOR\": cpf_locador,\n",
    "        \"ENDEREÇO_LOCADOR\": endereço_locador,\n",
    "        \"NOME_LOCATARIO\": nome_locatario,\n",
    "        \"NACIONALIDADE_LOCATARIO\": nacionalidade_locatario,\n",
    "        \"ESTADO_CIVIL_LOCATARIO\": estado_civil_locatario,\n",
    "        \"PROFISSÃO_LOCATARIO\": profissão_locatario,\n",
    "        \"CPF_LOCATARIO\": cpf_locatario,\n",
    "        \"ENDERECO_LOCATARIO\": endereco_locatario,\n",
    "        \"ENDERECO_IMOVEL\": endereco_imovel,\n",
    "        \"MESES\": meses,\n",
    "        \"DATA_DE_INICIO\": data_de_inicio,\n",
    "        \"DATA_DE_TERMINO\": data_de_termino,\n",
    "        \"VALOR_ALUGUEL\": valor_aluguel,\n",
    "        \"DIA_PAGAMENTO\": dia_pagamento, \n",
    "        \"FORO\": foro,\n",
    "        \"NOME_TESTEMUNHA_1\": nome_testemunha_1,\n",
    "        \"NOME_TESTEMUNHA_2\": nome_testemunha_2,\n",
    "        \"LOCAL\": local_assin,\n",
    "        \"DATA\": data_assin,\n",
    "    }\n",
    "\n",
    "    for parag in doc.paragraphs:\n",
    "        for cod in dict_values:\n",
    "            value = dict_values[cod]\n",
    "            parag.text = parag.text.replace(cod,value)\n",
    "\n",
    "    doc.save(f'words\\Contrato - {nome_locador}.docx')"
   ]
  },
  {
   "cell_type": "markdown",
   "metadata": {},
   "source": [
    "### Criação dos arquivos pdf"
   ]
  },
  {
   "cell_type": "code",
   "execution_count": null,
   "metadata": {},
   "outputs": [],
   "source": [
    "for root, dirs, files in os.walk('D:\\Documentos\\Automação_Python\\Automação_contrato_final\\words'):\n",
    "    for file_name in files:\n",
    "        convert(f\"words\\{file_name}\",f\"pdfs\\{file_name.replace('docx','pdf')}\")"
   ]
  }
 ],
 "metadata": {
  "kernelspec": {
   "display_name": "Python 3",
   "language": "python",
   "name": "python3"
  },
  "language_info": {
   "codemirror_mode": {
    "name": "ipython",
    "version": 3
   },
   "file_extension": ".py",
   "mimetype": "text/x-python",
   "name": "python",
   "nbconvert_exporter": "python",
   "pygments_lexer": "ipython3",
   "version": "3.9.13"
  }
 },
 "nbformat": 4,
 "nbformat_minor": 2
}
