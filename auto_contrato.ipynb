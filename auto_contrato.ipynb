{
 "cells": [
  {
   "cell_type": "code",
   "execution_count": null,
   "metadata": {},
   "outputs": [],
   "source": [
    "%pip install numpy\n",
    "%pip install pandas\n",
    "%pip install openpyxl\n",
    "%pip install python-docx\n",
    "%pip install docx2pdf"
   ]
  },
  {
   "cell_type": "code",
   "execution_count": 1,
   "metadata": {},
   "outputs": [
    {
     "name": "stderr",
     "output_type": "stream",
     "text": [
      "C:\\Users\\joao-\\AppData\\Local\\Packages\\PythonSoftwareFoundation.Python.3.9_qbz5n2kfra8p0\\LocalCache\\local-packages\\Python39\\site-packages\\tqdm\\auto.py:21: TqdmWarning: IProgress not found. Please update jupyter and ipywidgets. See https://ipywidgets.readthedocs.io/en/stable/user_install.html\n",
      "  from .autonotebook import tqdm as notebook_tqdm\n"
     ]
    }
   ],
   "source": [
    "from docx import Document as dc\n",
    "from datetime import datetime\n",
    "import pandas as pd\n",
    "from docx2pdf import convert"
   ]
  },
  {
   "cell_type": "code",
   "execution_count": 2,
   "metadata": {},
   "outputs": [],
   "source": [
    "info_table = pd.read_excel('D:\\Documentos\\Automação_Python\\Automação_contrato_final\\Informações.xlsx')"
   ]
  },
  {
   "cell_type": "code",
   "execution_count": null,
   "metadata": {},
   "outputs": [],
   "source": [
    "for line_number in info_table.index:\n",
    "\n",
    "    doc = dc(\"D:\\Documentos\\Automação_Python\\Automação_contrato_final\\Contrato_locação_imóvel.docx\")\n",
    "\n",
    "    name = info_table.loc[line_number,'Nome']\n",
    "    item1 = info_table.loc[line_number,'Item1']\n",
    "    item2 = info_table.loc[line_number,'Item2']\n",
    "    item3 = info_table.loc[line_number,'Item3']\n",
    "\n",
    "    dict_values = {\n",
    "        \"NOME_LOCADOR\": name,\n",
    "        \"NACIONALIDADE_LOCADOR\": item1,\n",
    "        \"ESTADO_CIVIL_LOCADOR\": item2,\n",
    "        \"PROFISSAO_LOCADOR\": item3,\n",
    "        \"CPF_LOCADOR\": \n",
    "        \"ENDEREÇO_LOCADOR\": \n",
    "        \"NOME_LOCATARIO\": \n",
    "        \"NACIONALIDADE_LOCATARIO\": \n",
    "        \"ESTADO_CIVIL_LOCATARIO\": \n",
    "        \"PROFISSÃO_LOCATARIO\": \n",
    "        \"CPF_LOCATARIO\": \n",
    "        \"ENDERECO_LOCATARIO\": \n",
    "        \"ENDERECO_IMOVEL\": \n",
    "        \"MESES\": \n",
    "        \"DATA_DE_INICIO\": \n",
    "        \"DATA_DE_TERMINO\": \n",
    "        \"VALOR_ALUGUEL\": \n",
    "        \"DIA_PAGAMENTO\": \n",
    "        \"NOME_LOCADORA\": \n",
    "        \"NOME_LOCATARIO\": \n",
    "        \"NOME_TESTEMUNHA_1\": \n",
    "        \"NOME_TESTEMUNHA_2\": \n",
    "        \"LOCAL\": \n",
    "        \"DATA\": \n",
    "    }\n",
    "\n",
    "    for parag in doc.paragraphs:\n",
    "        for cod in dict_values:\n",
    "            value = dict_values[cod]\n",
    "            parag.text = parag.text.replace(cod,value)\n",
    "\n",
    "    doc.save(f'words\\Contrato - {name}.docx')\n",
    "    convert(f\"words\\Contrato - {name}.docx\",f\"pdfs\\Contrato - {name}.pdf\")"
   ]
  },
  {
   "cell_type": "code",
   "execution_count": null,
   "metadata": {},
   "outputs": [],
   "source": [
    "# Converter em pdf\n",
    "\n",
    "# convert(\"Contrato.docx\",\"pdfs\\Contrato.pdf\")"
   ]
  },
  {
   "cell_type": "code",
   "execution_count": 17,
   "metadata": {},
   "outputs": [],
   "source": [
    "# Remover arquivos:\n",
    "# import os\n",
    "# os.remove(\"words\\Contrato - Lira.docx\")"
   ]
  },
  {
   "cell_type": "code",
   "execution_count": null,
   "metadata": {},
   "outputs": [],
   "source": []
  }
 ],
 "metadata": {
  "kernelspec": {
   "display_name": "Python 3",
   "language": "python",
   "name": "python3"
  },
  "language_info": {
   "codemirror_mode": {
    "name": "ipython",
    "version": 3
   },
   "file_extension": ".py",
   "mimetype": "text/x-python",
   "name": "python",
   "nbconvert_exporter": "python",
   "pygments_lexer": "ipython3",
   "version": "3.9.13"
  }
 },
 "nbformat": 4,
 "nbformat_minor": 2
}
